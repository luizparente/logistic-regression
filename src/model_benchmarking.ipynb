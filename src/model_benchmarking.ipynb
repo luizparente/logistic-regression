{
 "cells": [
  {
   "cell_type": "markdown",
   "metadata": {},
   "source": [
    "# Model Benchmarking\n",
    "---\n",
    "\n",
    "## Our `LogisticRegression` Class\n",
    "\n",
    "The snippet below illustrates the typical usage of the LogisticRegression class provided by this implementation using the [breast cancer dataset](https://scikit-learn.org/stable/modules/generated/sklearn.datasets.load_breast_cancer.html)."
   ]
  },
  {
   "cell_type": "code",
   "execution_count": 34,
   "metadata": {},
   "outputs": [
    {
     "name": "stdout",
     "output_type": "stream",
     "text": [
      "\n",
      "Our accuracy: 97.37%\n",
      "Time taken: 0.97 seconds\n"
     ]
    }
   ],
   "source": [
    "from sklearn.datasets import load_breast_cancer\n",
    "from sklearn.model_selection import train_test_split\n",
    "from sklearn.preprocessing import MinMaxScaler\n",
    "from sklearn.metrics import accuracy_score\n",
    "from regression.LogisticRegression import LogisticRegression\n",
    "from utilities.Stopwatch import Stopwatch\n",
    "\n",
    "# Loading the breast cancer dataset.\n",
    "data = load_breast_cancer()\n",
    "X, y = data.data, data.target\n",
    "\n",
    "# Measuring time performance.\n",
    "stopwatch = Stopwatch()\n",
    "stopwatch.start()\n",
    "\n",
    "# Splitting the data into training and test sets.\n",
    "X_train, X_test, y_train, y_test = train_test_split(X, y, test_size=0.2, random_state=42)\n",
    "\n",
    "# Scaling the features.\n",
    "scaler = MinMaxScaler().fit(X_train)\n",
    "X_train = scaler.transform(X_train)\n",
    "X_test = scaler.transform(X_test)\n",
    "\n",
    "# Initializing and training the model.\n",
    "logistic_regression_model = LogisticRegression(learning_rate=0.1, epochs=5000)\n",
    "logistic_regression_model.fit(X_train, y_train, False)\n",
    "\n",
    "# Making predictions on the test set.\n",
    "predictions = logistic_regression_model.predict(X_test)\n",
    "\n",
    "# Evaluating model.\n",
    "time = stopwatch.stop()\n",
    "accuracy = accuracy_score(y_test, predictions)\n",
    "\n",
    "print(f\"\\nOur accuracy: {accuracy * 100:.2f}%\")\n",
    "print(f\"Time taken: {time:.2f} seconds\")"
   ]
  },
  {
   "cell_type": "markdown",
   "metadata": {},
   "source": [
    "## SciKit-Learn's `LogisticRegression` Class\n",
    "\n",
    "The snippet below evaluates SciKit-Learn's `LogisticRegression` class. "
   ]
  },
  {
   "cell_type": "code",
   "execution_count": 6,
   "metadata": {},
   "outputs": [
    {
     "name": "stdout",
     "output_type": "stream",
     "text": [
      "SciKit-Learn's accuracy: 97.37%\n",
      "Time taken: 0.00800089 seconds\n"
     ]
    }
   ],
   "source": [
    "from sklearn.datasets import load_breast_cancer\n",
    "from sklearn.model_selection import train_test_split\n",
    "from sklearn.preprocessing import MinMaxScaler\n",
    "from sklearn.linear_model import LogisticRegression\n",
    "from sklearn.metrics import accuracy_score\n",
    "from utilities.Stopwatch import Stopwatch\n",
    "\n",
    "data = load_breast_cancer()\n",
    "X = data.data\n",
    "y = data.target\n",
    "\n",
    "stopwatch = Stopwatch()\n",
    "stopwatch.start()\n",
    "\n",
    "X_train, X_test, y_train, y_test = train_test_split(X, y, test_size=0.2, random_state=42)\n",
    "\n",
    "scaler = MinMaxScaler()\n",
    "X_train = scaler.fit_transform(X_train)\n",
    "X_test = scaler.transform(X_test)\n",
    "\n",
    "model = LogisticRegression(solver=\"liblinear\")\n",
    "model.fit(X_train, y_train)\n",
    "\n",
    "predictions = model.predict(X_test)\n",
    "\n",
    "time = stopwatch.stop()\n",
    "accuracy = accuracy_score(y_test, predictions)\n",
    "\n",
    "print(f\"SciKit-Learn's accuracy: {accuracy * 100:.2f}%\")\n",
    "print(f\"Time taken: {time:.8f} seconds\")"
   ]
  },
  {
   "cell_type": "markdown",
   "metadata": {},
   "source": [
    "# Our `LogisticRegression` Class with `BasicOptimizedSampler`\n",
    "\n",
    "The snippet below leverages a simplified version of the paper's proposed sampling algorithm. "
   ]
  },
  {
   "cell_type": "code",
   "execution_count": 40,
   "metadata": {},
   "outputs": [
    {
     "name": "stdout",
     "output_type": "stream",
     "text": [
      "\n",
      "Our accuracy: 95.65%\n",
      "Time taken: 0.21 seconds\n"
     ]
    }
   ],
   "source": [
    "from sklearn.datasets import load_breast_cancer\n",
    "from sklearn.model_selection import train_test_split\n",
    "from sklearn.preprocessing import MinMaxScaler\n",
    "from sklearn.metrics import accuracy_score\n",
    "from regression.LogisticRegression import LogisticRegression\n",
    "from optimized_sampling.BasicLeverageScoresSampler import BasicLeverageScoresSampler\n",
    "from utilities.Stopwatch import Stopwatch\n",
    "\n",
    "# Loading the breast cancer dataset.\n",
    "data = load_breast_cancer()\n",
    "X, y = data.data, data.target\n",
    "\n",
    "# Measuring time performance.\n",
    "stopwatch = Stopwatch()\n",
    "stopwatch.start()\n",
    "\n",
    "# Sampling the data using BasicOptimizedSampler.\n",
    "sampler = BasicLeverageScoresSampler()\n",
    "X_sampled, y_sampled = sampler.sample(X, y, 0.2) # Sampling 20% of the data.\n",
    "\n",
    "# Splitting the data into training and test sets.\n",
    "X_train, X_test, y_train, y_test = train_test_split(X_sampled, y_sampled, test_size=0.2, random_state=42)\n",
    "\n",
    "# Scaling the features.\n",
    "scaler = MinMaxScaler().fit(X_train)\n",
    "X_train = scaler.transform(X_train)\n",
    "X_test = scaler.transform(X_test)\n",
    "\n",
    "# Initializing and training the model.\n",
    "logistic_regression_model = LogisticRegression(learning_rate=0.1, epochs=5000)\n",
    "logistic_regression_model.fit(X_train, y_train, False)\n",
    "\n",
    "# Making predictions on the test set.\n",
    "predictions = logistic_regression_model.predict(X_test)\n",
    "\n",
    "# Evaluating model.\n",
    "time = stopwatch.stop()\n",
    "accuracy = accuracy_score(y_test, predictions)\n",
    "\n",
    "print(f\"\\nOur accuracy: {accuracy * 100:.2f}%\")\n",
    "print(f\"Time taken: {time:.2f} seconds\")"
   ]
  },
  {
   "cell_type": "markdown",
   "metadata": {},
   "source": [
    "# SciKit-Learn's `LogisticRegression` Class with `BasicOptimizedSampler`\n",
    "\n",
    "The snippet below evaluates SciKit-Learn's `LogisticRegression` class with training data sampled with `BasicOptimizedSampler`."
   ]
  },
  {
   "cell_type": "code",
   "execution_count": 26,
   "metadata": {},
   "outputs": [
    {
     "name": "stdout",
     "output_type": "stream",
     "text": [
      "SciKit-Learn's accuracy: 95.65%\n",
      "Time taken: 0.00628617 seconds\n"
     ]
    }
   ],
   "source": [
    "from sklearn.datasets import load_breast_cancer\n",
    "from sklearn.model_selection import train_test_split\n",
    "from sklearn.preprocessing import MinMaxScaler\n",
    "from sklearn.linear_model import LogisticRegression\n",
    "from optimized_sampling.BasicLeverageScoresSampler import BasicLeverageScoresSampler\n",
    "from sklearn.metrics import accuracy_score\n",
    "from utilities.Stopwatch import Stopwatch\n",
    "\n",
    "data = load_breast_cancer()\n",
    "X = data.data\n",
    "y = data.target\n",
    "\n",
    "stopwatch = Stopwatch()\n",
    "stopwatch.start()\n",
    "\n",
    "sampler = BasicLeverageScoresSampler()\n",
    "X_sampled, y_sampled = sampler.sample(X, y, 0.2) # Sampling 20% of the data.\n",
    "\n",
    "X_train, X_test, y_train, y_test = train_test_split(X_sampled, y_sampled, test_size=0.2, random_state=42)\n",
    "\n",
    "scaler = MinMaxScaler()\n",
    "X_train = scaler.fit_transform(X_train)\n",
    "X_test = scaler.transform(X_test)\n",
    "\n",
    "model = LogisticRegression(solver=\"liblinear\")\n",
    "model.fit(X_train, y_train)\n",
    "\n",
    "predictions = model.predict(X_test)\n",
    "\n",
    "time = stopwatch.stop()\n",
    "accuracy = accuracy_score(y_test, predictions)\n",
    "\n",
    "print(f\"SciKit-Learn's accuracy: {accuracy * 100:.2f}%\")\n",
    "print(f\"Time taken: {time:.8f} seconds\")"
   ]
  }
 ],
 "metadata": {
  "kernelspec": {
   "display_name": "Python 3",
   "language": "python",
   "name": "python3"
  },
  "language_info": {
   "codemirror_mode": {
    "name": "ipython",
    "version": 3
   },
   "file_extension": ".py",
   "mimetype": "text/x-python",
   "name": "python",
   "nbconvert_exporter": "python",
   "pygments_lexer": "ipython3",
   "version": "3.11.2"
  }
 },
 "nbformat": 4,
 "nbformat_minor": 2
}
