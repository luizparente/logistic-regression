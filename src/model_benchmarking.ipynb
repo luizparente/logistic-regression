{
 "cells": [
  {
   "cell_type": "markdown",
   "metadata": {},
   "source": [
    "# Model Benchmarking\n",
    "---\n",
    "\n",
    "## `SlowLogisticRegression` Class\n",
    "\n",
    "The snippet below illustrates the typical usage of the `SlowLogisticRegression` class provided by this implementation using the [breast cancer dataset](https://scikit-learn.org/stable/modules/generated/sklearn.datasets.load_breast_cancer.html)."
   ]
  },
  {
   "cell_type": "code",
   "execution_count": 6,
   "metadata": {},
   "outputs": [
    {
     "name": "stdout",
     "output_type": "stream",
     "text": [
      "\n",
      "Slow Logistic Regression Accuracy: 97.37%\n",
      "Training Time: 1.24048 seconds\n",
      "Prediction Time: 0.00028 seconds\n"
     ]
    }
   ],
   "source": [
    "from sklearn.datasets import load_breast_cancer\n",
    "from sklearn.model_selection import train_test_split\n",
    "from sklearn.preprocessing import MinMaxScaler\n",
    "from sklearn.metrics import accuracy_score\n",
    "from regression.SlowLogisticRegression import SlowLogisticRegression\n",
    "from utilities.Stopwatch import Stopwatch\n",
    "\n",
    "# Loading the breast cancer dataset.\n",
    "data = load_breast_cancer()\n",
    "X, y = data.data, data.target\n",
    "\n",
    "# Measuring time performance.\n",
    "training_stopwatch = Stopwatch()\n",
    "training_stopwatch.start()\n",
    "\n",
    "# Splitting the data into training and test sets.\n",
    "X_train, X_test, y_train, y_test = train_test_split(X, y, test_size=0.2, random_state=42)\n",
    "\n",
    "# Scaling the features.\n",
    "scaler = MinMaxScaler().fit(X_train)\n",
    "X_train = scaler.transform(X_train)\n",
    "X_test = scaler.transform(X_test)\n",
    "\n",
    "# Initializing and training the model.\n",
    "logistic_regression_model = SlowLogisticRegression(learning_rate=0.1, epochs=5000)\n",
    "logistic_regression_model.fit(X_train, y_train, False)\n",
    "\n",
    "training_time = training_stopwatch.stop()\n",
    "prediction_stopwatch = Stopwatch()\n",
    "prediction_stopwatch.start()\n",
    "\n",
    "# Making predictions on the test set.\n",
    "predictions = logistic_regression_model.predict(X_test)\n",
    "\n",
    "# Evaluating model.\n",
    "prediction_time = prediction_stopwatch.stop()\n",
    "accuracy = accuracy_score(y_test, predictions)\n",
    "\n",
    "print(f\"\\nSlow Logistic Regression Accuracy: {accuracy * 100:.2f}%\")\n",
    "print(f\"Training Time: {training_time:.5f} seconds\")\n",
    "print(f\"Prediction Time: {prediction_time:.5f} seconds\")"
   ]
  },
  {
   "cell_type": "markdown",
   "metadata": {},
   "source": [
    "## SciKit-Learn's `LogisticRegression` Class\n",
    "\n",
    "The snippet below evaluates SciKit-Learn's `LogisticRegression` class. "
   ]
  },
  {
   "cell_type": "code",
   "execution_count": 13,
   "metadata": {},
   "outputs": [
    {
     "name": "stdout",
     "output_type": "stream",
     "text": [
      "SciKit-Learn's Accuracy: 97.37%\n",
      "Training Time: 0.00778 seconds\n",
      "Prediction Time: 0.00082 seconds\n"
     ]
    }
   ],
   "source": [
    "from sklearn.datasets import load_breast_cancer\n",
    "from sklearn.model_selection import train_test_split\n",
    "from sklearn.preprocessing import MinMaxScaler\n",
    "from sklearn.linear_model import LogisticRegression\n",
    "from sklearn.metrics import accuracy_score\n",
    "from utilities.Stopwatch import Stopwatch\n",
    "\n",
    "data = load_breast_cancer()\n",
    "X = data.data\n",
    "y = data.target\n",
    "\n",
    "training_stopwatch = Stopwatch()\n",
    "training_stopwatch.start()\n",
    "\n",
    "X_train, X_test, y_train, y_test = train_test_split(X, y, test_size=0.2, random_state=42)\n",
    "\n",
    "scaler = MinMaxScaler()\n",
    "X_train = scaler.fit_transform(X_train)\n",
    "X_test = scaler.transform(X_test)\n",
    "\n",
    "model = LogisticRegression(solver=\"liblinear\")\n",
    "model.fit(X_train, y_train)\n",
    "\n",
    "training_time = training_stopwatch.stop()\n",
    "prediction_stopwatch = Stopwatch()\n",
    "prediction_stopwatch.start()\n",
    "\n",
    "predictions = model.predict(X_test)\n",
    "\n",
    "prediction_time = prediction_stopwatch.stop()\n",
    "accuracy = accuracy_score(y_test, predictions)\n",
    "\n",
    "print(f\"SciKit-Learn's Accuracy: {accuracy * 100:.2f}%\")\n",
    "print(f\"Training Time: {training_time:.5f} seconds\")\n",
    "print(f\"Prediction Time: {prediction_time:.5f} seconds\")"
   ]
  },
  {
   "cell_type": "markdown",
   "metadata": {},
   "source": [
    "# `SlowLogisticRegression` Class with `BasicOptimizedSampler`\n",
    "\n",
    "The snippet below leverages a simplified version of the paper's proposed sampling algorithm. "
   ]
  },
  {
   "cell_type": "code",
   "execution_count": 28,
   "metadata": {},
   "outputs": [
    {
     "name": "stdout",
     "output_type": "stream",
     "text": [
      "\n",
      "Slow Logistic Regression with Sampled Data Accuracy: 95.65%\n",
      "Training Time: 0.20064 seconds\n",
      "Prediction Time: 0.00008 seconds\n"
     ]
    }
   ],
   "source": [
    "from sklearn.datasets import load_breast_cancer\n",
    "from sklearn.model_selection import train_test_split\n",
    "from sklearn.preprocessing import MinMaxScaler\n",
    "from sklearn.metrics import accuracy_score\n",
    "from regression.SlowLogisticRegression import SlowLogisticRegression\n",
    "from optimized_sampling.BasicLeverageScoresSampler import BasicLeverageScoresSampler\n",
    "from utilities.Stopwatch import Stopwatch\n",
    "\n",
    "# Loading the breast cancer dataset.\n",
    "data = load_breast_cancer()\n",
    "X, y = data.data, data.target\n",
    "\n",
    "# Measuring time performance.\n",
    "training_stopwatch = Stopwatch()\n",
    "training_stopwatch.start()\n",
    "\n",
    "# Sampling the data using BasicOptimizedSampler.\n",
    "sampler = BasicLeverageScoresSampler()\n",
    "X_sampled, y_sampled = sampler.sample(X, y, 0.2) # Sampling 20% of the data.\n",
    "\n",
    "# Splitting the data into training and test sets.\n",
    "X_train, X_test, y_train, y_test = train_test_split(X_sampled, y_sampled, test_size=0.2, random_state=42)\n",
    "\n",
    "# Scaling the features.\n",
    "scaler = MinMaxScaler().fit(X_train)\n",
    "X_train = scaler.transform(X_train)\n",
    "X_test = scaler.transform(X_test)\n",
    "\n",
    "# Initializing and training the model.\n",
    "logistic_regression_model = SlowLogisticRegression(learning_rate=0.1, epochs=5000)\n",
    "logistic_regression_model.fit(X_train, y_train, False)\n",
    "\n",
    "training_time = training_stopwatch.stop()\n",
    "prediction_stopwatch = Stopwatch()\n",
    "prediction_stopwatch.start()\n",
    "\n",
    "# Making predictions on the test set.\n",
    "predictions = logistic_regression_model.predict(X_test)\n",
    "\n",
    "# Evaluating model.\n",
    "prediction_time = prediction_stopwatch.stop()\n",
    "accuracy = accuracy_score(y_test, predictions)\n",
    "\n",
    "print(f\"\\nSlow Logistic Regression with Sampled Data Accuracy: {accuracy * 100:.2f}%\")\n",
    "print(f\"Training Time: {training_time:.5f} seconds\")\n",
    "print(f\"Prediction Time: {prediction_time:.5f} seconds\")"
   ]
  },
  {
   "cell_type": "markdown",
   "metadata": {},
   "source": [
    "# SciKit-Learn's `LogisticRegression` Class with `BasicOptimizedSampler`\n",
    "\n",
    "The snippet below evaluates SciKit-Learn's `LogisticRegression` class with training data sampled with `BasicOptimizedSampler`."
   ]
  },
  {
   "cell_type": "code",
   "execution_count": 20,
   "metadata": {},
   "outputs": [
    {
     "name": "stdout",
     "output_type": "stream",
     "text": [
      "SciKit-Learn's accuracy: 86.96%\n",
      "Training Time: 0.00592 seconds\n",
      "Prediction Time: 0.00034 seconds\n"
     ]
    }
   ],
   "source": [
    "from sklearn.datasets import load_breast_cancer\n",
    "from sklearn.model_selection import train_test_split\n",
    "from sklearn.preprocessing import MinMaxScaler\n",
    "from sklearn.linear_model import LogisticRegression\n",
    "from optimized_sampling.BasicLeverageScoresSampler import BasicLeverageScoresSampler\n",
    "from sklearn.metrics import accuracy_score\n",
    "from utilities.Stopwatch import Stopwatch\n",
    "\n",
    "data = load_breast_cancer()\n",
    "X = data.data\n",
    "y = data.target\n",
    "\n",
    "training_stopwatch = Stopwatch()\n",
    "training_stopwatch.start()\n",
    "\n",
    "sampler = BasicLeverageScoresSampler()\n",
    "X_sampled, y_sampled = sampler.sample(X, y, 0.2) # Sampling 20% of the data.\n",
    "\n",
    "X_train, X_test, y_train, y_test = train_test_split(X_sampled, y_sampled, test_size=0.2, random_state=42)\n",
    "\n",
    "scaler = MinMaxScaler()\n",
    "X_train = scaler.fit_transform(X_train)\n",
    "X_test = scaler.transform(X_test)\n",
    "\n",
    "model = LogisticRegression(solver=\"liblinear\")\n",
    "model.fit(X_train, y_train)\n",
    "\n",
    "training_time = training_stopwatch.stop()\n",
    "prediction_stopwatch = Stopwatch()\n",
    "prediction_stopwatch.start()\n",
    "\n",
    "predictions = model.predict(X_test)\n",
    "\n",
    "prediction_time = prediction_stopwatch.stop()\n",
    "accuracy = accuracy_score(y_test, predictions)\n",
    "\n",
    "print(f\"SciKit-Learn's accuracy: {accuracy * 100:.2f}%\")\n",
    "print(f\"Training Time: {training_time:.5f} seconds\")\n",
    "print(f\"Prediction Time: {prediction_time:.5f} seconds\")"
   ]
  }
 ],
 "metadata": {
  "kernelspec": {
   "display_name": "Python 3",
   "language": "python",
   "name": "python3"
  },
  "language_info": {
   "codemirror_mode": {
    "name": "ipython",
    "version": 3
   },
   "file_extension": ".py",
   "mimetype": "text/x-python",
   "name": "python",
   "nbconvert_exporter": "python",
   "pygments_lexer": "ipython3",
   "version": "3.11.2"
  }
 },
 "nbformat": 4,
 "nbformat_minor": 2
}
