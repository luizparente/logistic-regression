{
 "cells": [
  {
   "cell_type": "code",
   "execution_count": 4,
   "metadata": {},
   "outputs": [
    {
     "name": "stdout",
     "output_type": "stream",
     "text": [
      "Epoch 0, Loss: 0.6900012100494303\n",
      "Epoch 100, Loss: 0.49581501017222523\n",
      "Epoch 200, Loss: 0.4022525179608462\n",
      "Epoch 300, Loss: 0.3478174266444748\n",
      "Epoch 400, Loss: 0.3120281932666414\n",
      "Epoch 500, Loss: 0.28650741426102866\n",
      "Epoch 600, Loss: 0.2672428632946837\n",
      "Epoch 700, Loss: 0.2520792384819453\n",
      "Epoch 800, Loss: 0.2397561328702385\n",
      "Epoch 900, Loss: 0.22948701348248535\n",
      "\n",
      "Accuracy on test set: 94.74%\n"
     ]
    }
   ],
   "source": [
    "from sklearn.datasets import load_breast_cancer\n",
    "from sklearn.model_selection import train_test_split\n",
    "from sklearn.preprocessing import MinMaxScaler\n",
    "from sklearn.metrics import accuracy_score\n",
    "from LogisticRegression import LogisticRegression\n",
    "\n",
    "# Loading the breast cancer dataset.\n",
    "data = load_breast_cancer()\n",
    "X, y = data.data, data.target\n",
    "\n",
    "# Splitting the data into training and test sets.\n",
    "X_train, X_test, y_train, y_test = train_test_split(X, y, test_size=0.2, random_state=42)\n",
    "\n",
    "# Scaling the features.\n",
    "scaler = MinMaxScaler().fit(X_train)\n",
    "X_train = scaler.transform(X_train)\n",
    "X_test = scaler.transform(X_test)\n",
    "\n",
    "# Initializing and training the model.\n",
    "logistic_regression_model = LogisticRegression(learning_rate=0.1, epochs=1000)\n",
    "logistic_regression_model.fit(X_train, y_train, True)\n",
    "\n",
    "# Making predictions on the test set.\n",
    "predictions = logistic_regression_model.predict(X_test)\n",
    "\n",
    "# Evaluating model.\n",
    "accuracy = accuracy_score(y_test, predictions)\n",
    "print(f\"\\nAccuracy on test set: {accuracy * 100:.2f}%\")"
   ]
  }
 ],
 "metadata": {
  "kernelspec": {
   "display_name": "Python 3",
   "language": "python",
   "name": "python3"
  },
  "language_info": {
   "codemirror_mode": {
    "name": "ipython",
    "version": 3
   },
   "file_extension": ".py",
   "mimetype": "text/x-python",
   "name": "python",
   "nbconvert_exporter": "python",
   "pygments_lexer": "ipython3",
   "version": "3.11.2"
  }
 },
 "nbformat": 4,
 "nbformat_minor": 2
}
